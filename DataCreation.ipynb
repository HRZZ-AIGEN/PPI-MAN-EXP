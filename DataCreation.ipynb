{
 "cells": [
  {
   "attachments": {},
   "cell_type": "markdown",
   "metadata": {},
   "source": [
    "# Data creation\n",
    "## GDSC data preprocessing"
   ]
  },
  {
   "attachments": {},
   "cell_type": "markdown",
   "metadata": {},
   "source": [
    "Goal is to analyse and explore connections of multimodal data consisting of:\n",
    "1. The GDSC2 data was gatered in raw format from: https://www.cancerrxgene.org/downloads/bulk_download, by command `wget ftp://ftp.sanger.ac.uk/pub/project/cancerrxgene/releases/current_release/GDSC2_fitted_dose_response_25Feb20.xlsx -P /workspace/raw/GDSC2`, \n",
    "2. Compound and cell line annotation can be found on the same site: `wget ftp://ftp.sanger.ac.uk/pub/project/cancerrxgene/releases/current_release/Cell_Lines_Details.xlsx -P /workspace/raw/GDSC2`, `wget ftp://ftp.sanger.ac.uk/pub/project/cancerrxgene/releases/current_release/screened_compunds_rel_8.2.csv -P /workspace/raw/GDSC2`. Interastingly we can populate the data by analyzing a new modality of data of CCL specificaly: Mutation, Copy Number, Methylation and Expression. Which gives a new dimension to Drug Discovery finding correlations between the Human Cancer Cell features and the IC50 Label.\n",
    "3. Missing drugs attributes were searched on online databases as https://www.chemspider.com/ and https://www.ebi.ac.uk/chembl/, but no new drugs features were found. Therefore we used only the described drugs within drugbank https://pubchem.ncbi.nlm.nih.gov/\n",
    "\n",
    "Downloaded GDSC2 data was exported to csv and used for exploration. Using Omics data enriches attribute space greatly whether we use raw attributes or domain specific relevant features. Standard ML approaches or domain specific approaches will be utilized to reduce the number of features and ensure adequate prediction and rich representation covering main context of the problem of predicting the necesarry dose for in vitro half maximal inhibitory concentration (IC50) a measure of the drug potency in inhibiting a specific biological or biochemical function, indicating how much of a particular inhibitory substance (e.g. drug) is needed to inhibit, in vitro, a given biological process or biological component by 50%."
   ]
  },
  {
   "cell_type": "code",
   "execution_count": null,
   "metadata": {},
   "outputs": [],
   "source": [
    "# !wget ftp://ftp.sanger.ac.uk/pub/project/cancerrxgene/releases/current_release/Cell_Lines_Details.xlsx -P /workspace/data/raw/GDSC2\n",
    "# !wget ftp://ftp.sanger.ac.uk/pub/project/cancerrxgene/releases/current_release/screened_compunds_rel_8.2.csv -P /workspace/data/raw/GDSC2\n",
    "# !wget ftp://ftp.sanger.ac.uk/pub/project/cancerrxgene/releases/current_release/GDSC2_fitted_dose_response_25Feb20.xlsx -P /workspace/data/raw/GDSC2\n"
   ]
  },
  {
   "cell_type": "code",
   "execution_count": 5,
   "metadata": {},
   "outputs": [],
   "source": [
    "import pandas as pd\n",
    "from pathlib import Path\n",
    "import pubchempy as pcp\n",
    "from rdkit import Chem\n",
    "from pandas_profiling import ProfileReport\n",
    "import json\n",
    "from torch_geometric.data import Data, InMemoryDataset, Batch\n",
    "import requests\n",
    "import zipfile\n",
    "import shutil\n",
    "#"
   ]
  },
  {
   "cell_type": "code",
   "execution_count": 4,
   "metadata": {},
   "outputs": [
    {
     "name": "stdout",
     "output_type": "stream",
     "text": [
      "Downloading data (1.7 GB)\n"
     ]
    }
   ],
   "source": [
    "\"\"\"The data can be downloaded from the following link:\n",
    "https://www.dropbox.com/s/cc8ovn0b1lsqm2m/raw.zip?dl=0\n",
    "Unfortunately the data preprocessing and data creation \n",
    "takes 24 hour to complete if you do it yourself, you need to crawl\n",
    "Pubchem to get compound info. \n",
    "\n",
    "After unpacking the data, make shure you match the folder sructure:\n",
    "data\\\n",
    "    processed\\\n",
    "        ... # it will be created after the first run\n",
    "    raw\\\n",
    "        CTRP\\\n",
    "        depmap22q2\\\n",
    "        GDSC2\\\n",
    "        ...\"\"\"\n",
    "# downloads data folder if it doesn't exist\n",
    "\n",
    "root = Path.cwd()\n",
    "data_dir = (root / 'data')\n",
    "raw_dir = (data_dir / 'raw')\n",
    "if not raw_dir.exists():\n",
    "    print(\"Downloading data (1.7 GB)\")\n",
    "    url = \"https://www.dropbox.com/s/cc8ovn0b1lsqm2m/raw.zip?dl=0\"\n",
    "\n",
    "    with requests.get(url, stream=True) as r:\n",
    "        with open(root / \"raw.zip\", 'wb') as f:\n",
    "            shutil.copyfileobj(r.raw, f)\n",
    "    print(\"Data downloaded!\")\n",
    "    data_dir.mkdir()\n",
    "    with zipfile.ZipFile(root / \"raw.zip\", \"r\") as zip_ref:\n",
    "        zip_ref.extractall(data_dir)"
   ]
  },
  {
   "cell_type": "code",
   "execution_count": null,
   "metadata": {},
   "outputs": [],
   "source": [
    "# with open('/workspace/data/raw/desc.json', 'w') as f:\n",
    "#    json.dump(desc, f)\n",
    "with open('/workspace/data/raw/desc.json', 'r', encoding='utf-8') as f:\n",
    "    desc = json.load(f)"
   ]
  },
  {
   "cell_type": "code",
   "execution_count": null,
   "metadata": {},
   "outputs": [],
   "source": [
    "def get_GDSC_pubchem_id(name, synonim_list=[], i=0):\n",
    "    try:\n",
    "        c= pcp.get_compounds(name, 'name')\n",
    "        return c[0].cid\n",
    "        \n",
    "    except:\n",
    "        for n in synonim_list:\n",
    "            try:\n",
    "                c= pcp.get_compounds(n, 'name')\n",
    "                return c[0].cid\n",
    "            except:\n",
    "                pass\n",
    "        print('{}, '.format(i))\n",
    "        return 0"
   ]
  },
  {
   "cell_type": "code",
   "execution_count": null,
   "metadata": {},
   "outputs": [],
   "source": [
    "# API to get the GDSC2 data from the raw data and pubchempy\n",
    "def create_gdsc_mol_data():\n",
    "    gdsc2_ccl_raw = pd.read_csv('/workspace/data/raw/GDSC2/GDSC2_fitted_dose_response_25Feb20.csv', sep=';')\n",
    "    gdsc_compound_list = pd.read_csv('/workspace/data/raw/GDSC2/screened_compunds_rel_8.2.csv')\n",
    "    pubchem_id = []\n",
    "    for i in range(0,len(gdsc_compound_list)):\n",
    "        if type(gdsc_compound_list.SYNONYMS[i]) == float:\n",
    "            pubchem_id.append(get_GDSC_pubchem_id(gdsc_compound_list.DRUG_NAME[i],i=i))\n",
    "        else:\n",
    "            synonim_list=gdsc_compound_list.SYNONYMS[i].split(',')\n",
    "            pubchem_id.append(get_GDSC_pubchem_id(gdsc_compound_list.DRUG_NAME[i], synonim_list=synonim_list, i=i))\n",
    "\n",
    "    gdsc_compound_list_cid = gdsc_compound_list\n",
    "    gdsc_compound_list_cid['pubchem_id'] = pd.Series(pubchem_id)\n",
    "    \n",
    "    #corrupt id check and move on get the smiles compound pubchem_id and other attributes for GDSC\n",
    "    for i in range(0,int(len(gdsc_compound_list_cid)/100)):\n",
    "        try:\n",
    "            GDSC2_PubChem_all_temp = pcp.get_compounds(gdsc_compound_list_cid.pubchem_id.to_list()[i*100:(i+1)*100], as_dataframe=True)[\n",
    "            desc['gdsc_all_columns']\n",
    "        ]\n",
    "            GDSC2_PubChem_all = pd.concat([GDSC2_PubChem_all, GDSC2_PubChem_all_temp])\n",
    "        except:\n",
    "            # download one by one and skip the corrupt line form puchempy \n",
    "            print(\"An exception occurred at {}\".format(i))\n",
    "            GDSC2_PubChem_all.to_csv('/workspace/data/raw/GDSC2/GDSC2_PubChem_all.csv')\n",
    "            for k in range(0,100):\n",
    "                try:\n",
    "                    GDSC2_PubChem_all_temp = pcp.get_compounds(gdsc_compound_list_cid.pubchem_id.to_list()[i*100+k:(i)*100+k+1], as_dataframe=True)[\n",
    "                        desc['gdsc_all_columns']]\n",
    "                    GDSC2_PubChem_all = pd.concat([GDSC2_PubChem_all, GDSC2_PubChem_all_temp])\n",
    "                except: \n",
    "                    print('{}, '.format(i*100+k))   \n",
    "    GDSC2_PubChem_all.to_csv('/workspace/data/raw/GDSC2/GDSC2_PubChem_all.csv')\n",
    "    GDSC2_PubChem_all= pd.read_csv('/workspace/data/raw/GDSC2/GDSC2_PubChem_all.csv')\n",
    "    GDSC2_PubChem_all = GDSC2_PubChem_all.rename(columns={GDSC2_PubChem_all.columns[0]:'pubchem_id'})\n",
    "    GDSC2_IC50_PUBCHEM = pd.merge(GDSC2_PubChem_all, gdsc_compound_list_cid, how=\"inner\", on=\"pubchem_id\").drop_duplicates()\n",
    "    GDSC2_IC50_PUBCHEM = pd.merge( GDSC2_IC50_PUBCHEM, gdsc2_ccl_raw, how=\"inner\", on=\"DRUG_ID\").drop_duplicates()\n",
    "    sample_info = pd.read_csv('/workspace/data/raw/depmap22q2/sample_info.csv')[['COSMICID', 'RRID']]\n",
    "    GDSC2_IC50_PUBCHEM = GDSC2_IC50_PUBCHEM.merge(sample_info, how='inner', on='COSMICID')\n",
    "    GDSC2_IC50_PUBCHEM.drop_duplicates(subset=['drug_name', 'RRID'], inplace=True)\n",
    "    GDSC2_IC50_PUBCHEM.to_pickle('/workspace/data/raw/GDSC2/GDSC2_IC50_PUBCHEM.pkl')\n",
    "\n",
    "# Helper functions to process the data\n",
    "def string_to_fingerprint(x):\n",
    "    return np.array([int(bit) for bit in x], dtype=np.int8)\n",
    "def map_to_array(x):\n",
    "    return ast.literal_eval(x)\n",
    "def process_fingerprint_elements(x):\n",
    "    x['cactvs_fingerprint'] = x['cactvs_fingerprint'].apply(string_to_fingerprint)\n",
    "    x['elements'] = x['elements'].apply(map_to_array)\n",
    "    x.to_pickle('/workspace/data/raw/GDSC2/GDSC2_IC50_PUBCHEM.pkl')\n",
    "    return x\n",
    "\n",
    "# GDSC2_IC50_PUBCHEM = pd.read_pickle('/workspace/data/raw/GDSC2/GDSC2_IC50_PUBCHEM.pkl')"
   ]
  },
  {
   "cell_type": "code",
   "execution_count": null,
   "metadata": {},
   "outputs": [],
   "source": [
    "# GDSC2_IC50_PUBCHEM.to_pickle('/workspace/data/raw/GDSC2/GDSC2_IC50_PUBCHEM.pkl')"
   ]
  },
  {
   "cell_type": "code",
   "execution_count": null,
   "metadata": {},
   "outputs": [
    {
     "data": {
      "text/plain": [
       "Index(['pubchem_id', 'atom_stereo_count', 'bond_stereo_count',\n",
       "       'cactvs_fingerprint', 'canonical_smiles', 'charge', 'complexity',\n",
       "       'covalent_unit_count', 'defined_atom_stereo_count',\n",
       "       'defined_bond_stereo_count', 'effective_rotor_count_3d', 'elements',\n",
       "       'exact_mass', 'fingerprint', 'h_bond_acceptor_count',\n",
       "       'h_bond_donor_count', 'heavy_atom_count', 'inchi', 'inchikey', 'smiles',\n",
       "       'isotope_atom_count', 'molecular_weight', 'monoisotopic_mass',\n",
       "       'rotatable_bond_count', 'tpsa', 'undefined_atom_stereo_count',\n",
       "       'undefined_bond_stereo_count', 'volume_3d', 'xlogp', 'DRUG_ID',\n",
       "       'SCREENING_SITE', 'drug_name', 'SYNONYMS', 'TARGET', 'TARGET_PATHWAY',\n",
       "       'DATASET', 'NLME_RESULT_ID', 'NLME_CURVE_ID', 'COSMIC_ID',\n",
       "       'CELL_LINE_NAME', 'SANGER_MODEL_ID', 'TCGA_DESC', 'PUTATIVE_TARGET',\n",
       "       'PATHWAY_NAME', 'COMPANY_ID', 'WEBRELEASE', 'MIN_CONC', 'MAX_CONC',\n",
       "       'LN_IC50', 'AUC', 'RMSE', 'Z_SCORE', 'IC50'],\n",
       "      dtype='object')"
      ]
     },
     "metadata": {},
     "output_type": "display_data"
    }
   ],
   "source": [
    "GDSC2_IC50_PUBCHEM.columns"
   ]
  },
  {
   "cell_type": "code",
   "execution_count": null,
   "metadata": {},
   "outputs": [],
   "source": [
    "sample_info = pd.read_csv('/workspace/data/raw/depmap22q2/sample_info.csv')[['COSMICID', 'RRID']]\n",
    "GDSC2_IC50_PUBCHEM = GDSC2_IC50_PUBCHEM.merge(sample_info, how='inner', on='COSMICID')\n",
    "GDSC2_IC50_PUBCHEM.drop_duplicates(subset=['drug_name', 'RRID'], inplace=True)"
   ]
  },
  {
   "attachments": {},
   "cell_type": "markdown",
   "metadata": {},
   "source": [
    "Cell line data can provide some specifics about the location of the mutation cells in the body. There are two attributes described by the Cell_Lines_Details.xlsx namely: `[\"GDSC Tissue descriptor 1\",\t\"GDSC Tissue descriptor 2\", \"Cancer Type (matching TCGA label)\"]`. Other interesting and potentially benefitial attributes for learning and prediction, could be the compounds to cell line realtion as [`\"TARGET\", \"TARGET_PATHWAY\"]`"
   ]
  },
  {
   "attachments": {},
   "cell_type": "markdown",
   "metadata": {},
   "source": [
    "Gather the pubchem_id for compounds used in gdsc dataset. We set zeros to 73 compounds that cannot be indentified in PubChem database. We check the synonims in the drug banks. We will ommit compounds that cannon't be identified. Create the compound list and find pubchem_id values to populate the list with smiles, fingerprints and other attributes. "
   ]
  },
  {
   "cell_type": "code",
   "execution_count": null,
   "metadata": {},
   "outputs": [],
   "source": [
    "# print(gdsc2_ccl_raw.head())\n",
    "# print(gdsc2_ccl_raw.columns)\n",
    "# print(gdsc2_ccl_raw.DRUG_NAME.unique())\n",
    "# print(len(gdsc2_ccl_raw))\n",
    "\n",
    "# print(gdsc_compound_list.head())\n",
    "# print(gdsc_compound_list.columns)\n",
    "# print(gdsc_compound_list.DRUG_NAME.unique())\n",
    "# print(len(gdsc_compound_list))"
   ]
  },
  {
   "attachments": {},
   "cell_type": "markdown",
   "metadata": {},
   "source": [
    "## CTRPv2 data preprocessing"
   ]
  },
  {
   "attachments": {},
   "cell_type": "markdown",
   "metadata": {},
   "source": [
    "Data link:\n",
    "https://ctd2-data.nci.nih.gov/Public/Broad/CTRPv2.0_2015_ctd2_ExpandedDataset/CTRPv2.0_2015_ctd2_ExpandedDataset.zip\n",
    "Data location: `data/raw/CTRP/`"
   ]
  },
  {
   "cell_type": "code",
   "execution_count": null,
   "metadata": {},
   "outputs": [],
   "source": [
    "import numpy as np\n",
    "import matplotlib.pyplot as plt"
   ]
  },
  {
   "cell_type": "code",
   "execution_count": null,
   "metadata": {},
   "outputs": [
    {
     "data": {
      "text/plain": [
       "\" with open('/workspace/data/raw/desc.json', 'w') as f:\\n    json.dump(desc, f) \""
      ]
     },
     "metadata": {},
     "output_type": "display_data"
    }
   ],
   "source": [
    "# json \"dictionary\" za pohranu imena atributa dimenzije značajki, ... \n",
    "# with open('/workspace/data/raw/desc.json', 'w') as f:\n",
    "#    json.dump(desc, f)\n",
    "with open('/workspace/data/raw/desc.json', 'r', encoding='utf-8') as f:\n",
    "    desc = json.load(f)"
   ]
  },
  {
   "cell_type": "code",
   "execution_count": null,
   "metadata": {},
   "outputs": [],
   "source": [
    "def find_duplicates(exp_meta, col=''):\n",
    "    duplicated = exp_meta[col].duplicated(keep=False)\n",
    "    if duplicated.any():\n",
    "        some_duplicates = exp_meta[duplicated].sort_values(by=exp_meta.columns.to_list())\n",
    "        print(f\"Dataframe has one or more duplicated rows, for example:\\n{some_duplicates}\")"
   ]
  },
  {
   "cell_type": "code",
   "execution_count": null,
   "metadata": {},
   "outputs": [],
   "source": [
    "# Get pcp data for all compounds in CTRP\n",
    "def get_cpd_pubchem_id(df):\n",
    "    if os.path.isfile('/workspace/data/raw/CTRP/ctrp_pubchem.pkl'):\n",
    "        return pd.read_pickle('/workspace/data/raw/CTRP/ctrp_pubchem.pkl')\n",
    "    columns=desc['nci_all_columns_pc'].copy()\n",
    "    columns.insert(0,'cid')\n",
    "    pubchem_data = pd.DataFrame([], columns=columns) \n",
    "    for i in df.index:\n",
    "        if pd.isna(df.loc[[i]]['cpd_name_1'].item()):\n",
    "            try: \n",
    "                c =  get_single_pubchem(df.loc[[i]].cpd_smiles.item(),\n",
    "                                        df.loc[[i]].cpd_name.item(),i) \n",
    "                # c = c.set_index(pd.Series([i]))\n",
    "                pubchem_data = pd.concat([pubchem_data, c])\n",
    "            except:\n",
    "                print('error at {}'.format(i))\n",
    "                \n",
    "        else:\n",
    "            try:\n",
    "                c =  get_single_pubchem(df.loc[[i]].cpd_smiles_1.item(), \n",
    "                                        df.loc[[i]].cpd_name_1.item(),i)\n",
    "                d =  get_single_pubchem(df.loc[[i]].cpd_smiles_2.item(), \n",
    "                                        df.loc[[i]].cpd_name_2.item(),i)\n",
    "                d.set_axis([temp + '_2' for temp in columns], axis=1, inplace=True)\n",
    "                c = pd.concat([c, d], axis=1)\n",
    "                # c = c.set_index(pd.Series([i]))\n",
    "                pubchem_data = pd.concat([pubchem_data, c])\n",
    "            except:\n",
    "                print('error at {}'.format(i))\n",
    "    pubchem_data.to_pickle('/workspace/data/raw/CTRP/ctrp_pubchem.pkl')\n",
    "    return pubchem_data\n",
    "\n",
    "# Single compound       \n",
    "def get_single_pubchem(cpd_smiles, cpd_name, i):\n",
    "    try:\n",
    "        c= pcp.get_compounds(cpd_smiles, \n",
    "                            'smiles', as_dataframe=True)[\n",
    "                            desc['nci_all_columns_pc']]\n",
    "        c = c.reset_index()\n",
    "        c = c.set_index(pd.Series([i]))\n",
    "        return  c\n",
    "    except:\n",
    "        try:\n",
    "            c= pcp.get_compounds(cpd_name, \n",
    "                                'name', as_dataframe=True)[\n",
    "                                desc['nci_all_columns_pc']]\n",
    "            c = c.reset_index()\n",
    "            c = c.set_index(pd.Series([i]))\n",
    "            return  c\n",
    "        except:\n",
    "            return pd.DataFrame([])"
   ]
  },
  {
   "cell_type": "code",
   "execution_count": null,
   "metadata": {},
   "outputs": [],
   "source": [
    "# Filter rows by values\n",
    "def filter_rows_by_values(df, col, values):\n",
    "    return df[~df[col].isin(values)]\n",
    "\n",
    "# Pre pre processing of CTRP data regex cleaning and saving to pickle\n",
    "def create_ctrp_pkl():\n",
    "    if os.path.isfile('/workspace/data/raw/CTRP/CTRP_all_v2.pkl'):\n",
    "        ctrp_new = pd.read_pickle('/workspace/data/raw/CTRP/CTRP_all_v2.pkl')\n",
    "        return ctrp_new\n",
    "    \n",
    "    ctrp = pd.read_csv('/workspace/data/raw/CTRP/v20.data.curves_post_qc.txt', delimiter='\\t')\n",
    "    if os.path.isfile('/workspace/data/raw/CTRP/CTRP_PubChem_all.pkl'):\n",
    "        cpd_meta = pd.read_pickle('/workspace/data/raw/CTRP/CTRP_PubChem_all.pkl')\n",
    "        \n",
    "    else:\n",
    "        cpd_meta = pd.read_csv('/workspace/data/raw/CTRP/v20.meta.per_compound.txt', delimiter='\\t')\n",
    "        b = cpd_meta[cpd_meta['inclusion_rationale'] == 'combination']\n",
    "        b[('cpd_name_1')] = b.loc[:,('cpd_name')].str.split(':').str[0].copy()\n",
    "        b.loc[:,('cpd_name')].str.split(':').str[1].str.split(' \\(').str[0]\n",
    "        b['cpd_name_2'], b['ratio_1'] = b.loc[:,('cpd_name')].str.split(':').str[1].str.split(' \\(').str[0], b.loc[:,('cpd_name')].str.split(':').str[1].str.split(' \\(').str[1]\n",
    "        b['ratio_2'] = b.loc[:,('cpd_name')].str.split(':').str[2].str.split(' ').str[0]\n",
    "        b['cpd_smiles_1'], b['cpd_smiles_2'] = b.loc[:,('cpd_smiles')].str.split('.').str[0], b.loc[:,('cpd_smiles')].str.split('.').str[1]\n",
    "        cpd_meta = pd.merge(cpd_meta,\n",
    "                            b[ ['master_cpd_id', 'cpd_name_1', 'cpd_name_2', \n",
    "                                'ratio_1', 'ratio_2', 'cpd_smiles_1', \n",
    "                                'cpd_smiles_2']], how='left', on='master_cpd_id')\n",
    "        \n",
    "        pubchem_data = get_cpd_pubchem_id(cpd_meta)\n",
    "        cpd_meta = pd.merge(cpd_meta[desc['cpd_meta_columns']], \n",
    "                            pubchem_data[desc['pubchem_ctrp_columns']], \n",
    "                            how='left', left_index=True, right_index=True)\n",
    "        \n",
    "        cpd_meta.to_pickle('/workspace/data/raw/CTRP/CTRP_PubChem_all.pkl')\n",
    "\n",
    "    ctrp_new = pd.merge(ctrp, cpd_meta, how='left', on='master_cpd_id')\n",
    "    experiment_meta = pd.read_csv('/workspace/data/raw/CTRP/v20.meta.per_experiment.txt', delimiter='\\t')\n",
    "    cell_line = pd.read_csv('/workspace/data/raw/CTRP/v20.meta.per_cell_line.txt', delimiter = '\\t')\n",
    "    exp_meta = pd.merge(experiment_meta, cell_line, how='left', on='master_ccl_id')\n",
    "    exp_meta= exp_meta.drop_duplicates(subset=['experiment_id'])\n",
    "    ctrp_new = pd.merge(ctrp_new, exp_meta, how='left', on='experiment_id')\n",
    "    ctrp_new['LN_EC50'] = ctrp_new['apparent_ec50_umol'].map(lambda x: np.log(x))\n",
    "    \n",
    "    #Ovo nije pravi IC50 već EC50\n",
    "    ctrp_new['LN_IC50'] = ctrp_new['LN_EC50']\n",
    "    \n",
    "    sample_info = pd.read_csv('/workspace/data/raw/depmap22q2/sample_info.csv')\n",
    "    ctrp_new = pd.merge(ctrp_new, sample_info[desc['pubchem_ctrp_columns']], \n",
    "                        how='left', left_on='ccl_name', \n",
    "                        right_on='stripped_cell_line_name')\n",
    "    \n",
    "    ctrp_new['dataset_name'] = ['CTRP' for _ in range(0,len(ctrp_new))]\n",
    "    ctrp_new.rename(columns={'cid':'pubchem_id', 'cid_2':'pubchem_id_2'}, inplace=True)\n",
    "    pu = [desc['created_pubchem_ids'][smiles] for smiles in ctrp_new[pd.isna(\n",
    "        ctrp_new.pubchem_id)]['cpd_smiles']]\n",
    "    \n",
    "    idx = ctrp_new[pd.isna(ctrp_new.pubchem_id)]['cpd_smiles'].index\n",
    "    ctrp_new.loc[idx, 'pubchem_id'] = pu\n",
    "    idx = ctrp_new[pd.isna(ctrp_new['isomeric_smiles'])].index\n",
    "    ctrp_new.loc[idx, 'isomeric_smiles']=ctrp_new.loc[idx, 'cpd_smiles']\n",
    "    ctrp_new = filter_rows_by_values(ctrp_new, 'RRID', \n",
    "                                     desc['cells_ctrp_missing_in_expression_depmap'])\n",
    "    \n",
    "    ctrp_new.to_pickle('/workspace/data/raw/CTRP/CTRP_all_v2.pkl')\n",
    "    return ctrp_new"
   ]
  },
  {
   "cell_type": "code",
   "execution_count": null,
   "metadata": {},
   "outputs": [],
   "source": [
    "ctrp_new = create_ctrp_pkl()"
   ]
  },
  {
   "cell_type": "code",
   "execution_count": null,
   "metadata": {},
   "outputs": [],
   "source": [
    "ctrp_new = filter_rows_by_values(ctrp_new, 'RRID', desc['cells_ctrp_missing_in_expression_depmap'])"
   ]
  },
  {
   "cell_type": "code",
   "execution_count": null,
   "metadata": {},
   "outputs": [
    {
     "name": "stdout",
     "output_type": "stream",
     "text": [
      "<class 'pandas.core.frame.DataFrame'>\n",
      "Int64Index: 385993 entries, 0 to 395262\n",
      "Data columns (total 65 columns):\n",
      " #   Column                          Non-Null Count   Dtype  \n",
      "---  ------                          --------------   -----  \n",
      " 0   experiment_id                   385993 non-null  int64  \n",
      " 1   conc_pts_fit                    385993 non-null  int64  \n",
      " 2   fit_num_param                   385993 non-null  int64  \n",
      " 3   p1_conf_int_high                385993 non-null  float64\n",
      " 4   p1_conf_int_low                 385993 non-null  float64\n",
      " 5   p2_conf_int_high                385993 non-null  float64\n",
      " 6   p2_conf_int_low                 385993 non-null  float64\n",
      " 7   p4_conf_int_high                299190 non-null  float64\n",
      " 8   p4_conf_int_low                 299190 non-null  float64\n",
      " 9   p1_center                       385993 non-null  float64\n",
      " 10  p2_slope                        385993 non-null  float64\n",
      " 11  p3_total_decline                385993 non-null  float64\n",
      " 12  p4_baseline                     385993 non-null  float64\n",
      " 13  apparent_ec50_umol              385993 non-null  float64\n",
      " 14  pred_pv_high_conc               385993 non-null  float64\n",
      " 15  area_under_curve                385993 non-null  float64\n",
      " 16  master_cpd_id                   385993 non-null  int64  \n",
      " 17  cpd_name                        385993 non-null  object \n",
      " 18  broad_cpd_id                    385993 non-null  object \n",
      " 19  top_test_conc_umol              385993 non-null  float64\n",
      " 20  cpd_status                      385993 non-null  object \n",
      " 21  inclusion_rationale             385993 non-null  object \n",
      " 22  gene_symbol_of_protein_target   304897 non-null  object \n",
      " 23  target_or_activity_of_compound  385993 non-null  object \n",
      " 24  source_name                     346533 non-null  object \n",
      " 25  source_catalog_id               265582 non-null  object \n",
      " 26  cpd_smiles                      385993 non-null  object \n",
      " 27  cpd_name_1                      38623 non-null   object \n",
      " 28  cpd_name_2                      38623 non-null   object \n",
      " 29  ratio_1                         38623 non-null   object \n",
      " 30  ratio_2                         38623 non-null   object \n",
      " 31  cpd_smiles_1                    38623 non-null   object \n",
      " 32  cpd_smiles_2                    38623 non-null   object \n",
      " 33  pubchem_id                      385993 non-null  object \n",
      " 34  cactvs_fingerprint              379268 non-null  object \n",
      " 35  inchikey                        379268 non-null  object \n",
      " 36  isomeric_smiles                 385993 non-null  object \n",
      " 37  pubchem_id_2                    38623 non-null   float64\n",
      " 38  cactvs_fingerprint_2            38623 non-null   object \n",
      " 39  inchikey_2                      38623 non-null   object \n",
      " 40  isomeric_smiles_2               38623 non-null   object \n",
      " 41  run_id                          385993 non-null  object \n",
      " 42  experiment_date                 385993 non-null  int64  \n",
      " 43  culture_media                   385993 non-null  object \n",
      " 44  baseline_signal                 385993 non-null  float64\n",
      " 45  cells_per_well                  385993 non-null  int64  \n",
      " 46  growth_mode                     385993 non-null  object \n",
      " 47  snp_fp_status                   385993 non-null  object \n",
      " 48  master_ccl_id                   385993 non-null  int64  \n",
      " 49  ccl_name                        385993 non-null  object \n",
      " 50  ccl_availability                385993 non-null  object \n",
      " 51  ccle_primary_site               358233 non-null  object \n",
      " 52  ccle_primary_hist               357398 non-null  object \n",
      " 53  ccle_hist_subtype_1             268707 non-null  object \n",
      " 54  LN_IC50                         385993 non-null  float64\n",
      " 55  DepMap_ID                       364647 non-null  object \n",
      " 56  cell_line_name                  362806 non-null  object \n",
      " 57  stripped_cell_line_name         364647 non-null  object \n",
      " 58  CCLE_Name                       364647 non-null  object \n",
      " 59  RRID                            364647 non-null  object \n",
      " 60  primary_or_metastasis           299693 non-null  object \n",
      " 61  primary_disease                 364647 non-null  object \n",
      " 62  Sanger_Model_ID                 290762 non-null  object \n",
      " 63  dataset_name                    385993 non-null  object \n",
      " 64  LN_EC50                         385993 non-null  float64\n",
      "dtypes: float64(18), int64(7), object(40)\n",
      "memory usage: 194.4+ MB\n"
     ]
    }
   ],
   "source": [
    "ctrp_new.info()"
   ]
  },
  {
   "cell_type": "code",
   "execution_count": null,
   "metadata": {},
   "outputs": [],
   "source": [
    "# Broj staničnih linija koje se ne nalaze u CCLE BP ali su u CTRP\n",
    "# Potrebno ih je za komparaciju izbaciti ukupno 47 stanica\n",
    "len(ctrp_new[pd.isna(ctrp_new['RRID'])]['ccl_name'].unique())\n",
    "ctrp_labeled = ctrp_new.dropna(subset=['RRID'])"
   ]
  },
  {
   "cell_type": "code",
   "execution_count": null,
   "metadata": {},
   "outputs": [],
   "source": [
    "desc['brain_tumors'] = ['Astrocytoma', 'Glioblastoma', 'Neuroblastoma', 'Medulloblastoma', \n",
    "'Gliosarcoma', 'Embryonal rhabdomyosarcoma',\n",
    "'Biphasic synovial sarcoma', 'Undifferentiated pleomorphic sarcoma']"
   ]
  },
  {
   "attachments": {},
   "cell_type": "markdown",
   "metadata": {},
   "source": [
    "## NCI60 data preprocessing"
   ]
  },
  {
   "attachments": {},
   "cell_type": "markdown",
   "metadata": {},
   "source": [
    "NSC_PubChemSID.csv was found at https://wiki.nci.nih.gov/display/NCIDTPdata/Chemical+Data\n",
    "IC50.csv Growth inghibition data was downloaded from https://wiki.nci.nih.gov/display/NCIDTPdata/NCI-60+Growth+Inhibition+Data\n",
    "The detailed description of Labels for NCI60 the compare methodology https://dtp.cancer.gov/databases_tools/docs/compare/compare_methodology.htm"
   ]
  },
  {
   "cell_type": "code",
   "execution_count": null,
   "metadata": {},
   "outputs": [
    {
     "name": "stdout",
     "output_type": "stream",
     "text": [
      "['/', '/workspace', '/opt/conda/lib/python37.zip', '/opt/conda/lib/python3.7', '/opt/conda/lib/python3.7/lib-dynload', '', '/home/vscode/.local/lib/python3.7/site-packages', '/opt/conda/lib/python3.7/site-packages', '/opt/conda/lib/python3.7/site-packages/IPython/extensions', '/home/vscode/.ipython']\n",
      "['/', '/workspace', '/opt/conda/lib/python37.zip', '/opt/conda/lib/python3.7', '/opt/conda/lib/python3.7/lib-dynload', '', '/home/vscode/.local/lib/python3.7/site-packages', '/opt/conda/lib/python3.7/site-packages', '/opt/conda/lib/python3.7/site-packages/IPython/extensions', '/home/vscode/.ipython', '/workspace/src']\n"
     ]
    }
   ],
   "source": [
    "import sys\n",
    "print(sys.path)\n",
    "\n",
    "sys.path.append('/workspace/src')\n",
    "print(sys.path)"
   ]
  },
  {
   "cell_type": "code",
   "execution_count": null,
   "metadata": {},
   "outputs": [],
   "source": [
    "def print_number_of_unique_NCI_cell_names(NCI60_IC50_PUBCHEM, sample_info):\n",
    "    k=0\n",
    "    for i in NCI60_IC50_PUBCHEM.CELL_NAME.unique():\n",
    "        l=re.sub('\\W+','', i)\n",
    "        print(l)\n",
    "        if i in sample_info.cell_line_name.unique():\n",
    "            print(True)\n",
    "            k+=1\n",
    "        elif l in sample_info.stripped_cell_line_name.unique():\n",
    "            print(True)\n",
    "            k+=1\n",
    "        else: print(False)\n",
    "    print(k)"
   ]
  },
  {
   "cell_type": "code",
   "execution_count": null,
   "metadata": {},
   "outputs": [],
   "source": [
    "#Dump to JSON\n",
    "#with open('/workspace/data/raw/desc.json', 'w') as f:\n",
    "#    json.dump(desc, f)"
   ]
  },
  {
   "cell_type": "code",
   "execution_count": null,
   "metadata": {},
   "outputs": [],
   "source": [
    "with open('/workspace/data/raw/desc.json', 'r', encoding='utf-8') as f:\n",
    "    desc = json.load(f)"
   ]
  },
  {
   "cell_type": "code",
   "execution_count": null,
   "metadata": {},
   "outputs": [],
   "source": [
    "# Get pubchem id for NCI60\n",
    "def get_data_for_NCI(NCI60_PubChemSID):\n",
    "    NCI60_properties = pd.DataFrame([])\n",
    "    for i in range(0,int(len(NCI60_PubChemSID)/100)):\n",
    "    #for i in range(297,300):\n",
    "        try:\n",
    "            NCI60_properties_temp = pcp.get_compounds(NCI60_PubChemSID.pubchem_id.to_list()[i*100:(i+1)*100], as_dataframe=True)[desc.nci_all_columns_pc]\n",
    "            NCI60_properties = pd.concat([NCI60_properties, NCI60_properties_temp])\n",
    "        except:\n",
    "            print(\"An exception occurred at {}\".format(i))\n",
    "            NCI60_properties.to_csv('/workspace/data/raw/NCI60June2022/NSC_PubChem_all.csv')\n",
    "            for k in range(0,100):\n",
    "                try:\n",
    "                    NCI60_properties_temp = pcp.get_compounds(NCI60_PubChemSID.pubchem_id.to_list()[i*100+k:(i)*100+k+1], as_dataframe=True)[desc.nci_all_columns_pc]\n",
    "                    NCI60_properties = pd.concat([NCI60_properties, NCI60_properties_temp])\n",
    "                except: \n",
    "                    print('{}, '.format(i*100+k))   \n",
    "    NCI60_properties.to_csv('/workspace/data/raw/NCI60June2022/NSC_PubChem_all.csv')\n",
    "    return NCI60_properties"
   ]
  },
  {
   "cell_type": "code",
   "execution_count": null,
   "metadata": {},
   "outputs": [],
   "source": [
    "# Create NCI60 data pkl\n",
    "def create_nci_data():\n",
    "    NCI60_ccl_raw = pd.read_csv('/workspace/data/raw/NCI60June2022/IC50.csv')\n",
    "    NCI60_PubChemSID = pd.read_csv('/workspace/data/raw/NCI60June2022/NSC_PubChemSID.csv', names=['NSC','pubchem_id'])\n",
    "    # Operation lasts arround 3 hours\n",
    "    NCI60_properties= get_data_for_NCI(NCI60_PubChemSID) \n",
    "    NCI60_IC50_PUBCHEM = pd.merge(NCI60_ccl_raw, NCI60_PubChemSID, how=\"inner\", on=\"NSC\").drop_duplicates()\n",
    "    NCI60_properties['pubchem_id']=NCI60_properties.index\n",
    "    NCI60_IC50_PUBCHEM = pd.merge(NCI60_IC50_PUBCHEM, NCI60_properties, how=\"inner\", on=\"pubchem_id\").drop_duplicates()\n",
    "    NCI60_IC50_PUBCHEM['STRIPPED_CELL_NAME'] =NCI60_IC50_PUBCHEM.CELL_NAME.map(lambda x: re.sub('\\W+','', x))\n",
    "    sample_info = pd.read_csv('/workspace/data/raw/depmap22q2/sample_info.csv')\n",
    "    NCI60_IC50_PUBCHEM_PUBLIC = pd.merge(NCI60_IC50_PUBCHEM, sample_info, \n",
    "        how=\"inner\", left_on=\"STRIPPED_CELL_NAME\", right_on='stripped_cell_line_name')\n",
    "    c= ['RELEASE_DATE', 'EXPID', 'PREFIX','CELL_NUMBER',\n",
    "    'cactvs_fingerprint','complexity', 'covalent_unit_count',\n",
    "       'defined_atom_stereo_count', 'defined_bond_stereo_count',\n",
    "       'elements','fingerprint','inchi', 'inchikey',\n",
    "       'isotope_atom_count', 'molecular_weight', 'monoisotopic_mass', \n",
    "       'undefined_atom_stereo_count', 'undefined_bond_stereo_count',\n",
    "       'volume_3d',  'STRIPPED_CELL_NAME','cell_line_name', 'alias',\n",
    "       'sex', 'source', 'WTSI_Master_Cell_ID','depmap_public_comments',\n",
    "       'default_growth_pattern', 'model_manipulation', \n",
    "       'model_manipulation_details', 'patient_id',\n",
    "       'parent_depmap_id', 'Cellosaurus_NCIt_disease', 'Cellosaurus_NCIt_id']\n",
    "    NCI60_IC50_PUBCHEM_PUBLIC.drop(columns=c, inplace=True)\n",
    "    NCI60_IC50_PUBCHEM_PUBLIC.rename(columns={\n",
    "                'RRID': 'cellosaurus_accession'}, inplace=True)\n",
    "    # \n",
    "    NCI60_IC50_PUBCHEM_PUBLIC= NCI60_IC50_PUBCHEM_PUBLIC[NCI60_IC50_PUBCHEM_PUBLIC.CONCENTRATION_UNIT != 'V'] \n",
    "    NCI60_IC50_PUBCHEM_PUBLIC= NCI60_IC50_PUBCHEM_PUBLIC[NCI60_IC50_PUBCHEM_PUBLIC.CONCENTRATION_UNIT != 'u']\n",
    "    \n",
    "    # Values in GDSC DB are written as LN(IC50 * [1e-6 M]) = \"LN_IC50\"\n",
    "    # Values in NCI60 are written as LOG10(IC50) = \"AVERAGE\"\n",
    "    # Converting the values to \"LN_IC50\" = LN(IC50*1e6)\n",
    "    NCI60_IC50_PUBCHEM_PUBLIC[\"IC50\"] = NCI60_IC50_PUBCHEM_PUBLIC[\"AVERAGE\"].map(lambda x: 10**x)\n",
    "    NCI60_IC50_PUBCHEM_PUBLIC[\"LN_IC50\"] = NCI60_IC50_PUBCHEM_PUBLIC[\"IC50\"].map(lambda x: np.log(x*1e+6))\n",
    "    NCI60_IC50_PUBCHEM_PUBLIC = NCI60_IC50_PUBCHEM_PUBLIC[\n",
    "        ~NCI60_IC50_PUBCHEM_PUBLIC.pubchem_id.isin(desc['bad_mols_nci60_drop'])].info()\n",
    "    \n",
    "    NCI60_IC50_PUBCHEM.to_pickle('/workspace/data/raw/NCI60June2022/NCI60_IC50_PUBCHEM.pkl')\n",
    "    NCI60_IC50_PUBCHEM_PUBLIC.to_pickle('/workspace/data/raw/NCI60June2022/NCI60_IC50_PUBCHEM_PUBLIC.pkl')"
   ]
  },
  {
   "cell_type": "code",
   "execution_count": null,
   "metadata": {},
   "outputs": [],
   "source": [
    "# Create and merge GDSC, NCI60 and CCLE data necessary for training\n",
    "def create_labeled_data():\n",
    "    sample_info = pd.read_csv('/workspace/data/raw/depmap22q2/sample_info.csv')\n",
    "    gdsc = pd.read_pickle('/workspace/data/raw/GDSC2/GDSC2_IC50_PUBCHEM.pkl')\n",
    "    nci_public = pd.read_pickle('/workspace/data/raw/NCI60June2022/NCI60_IC50_PUBCHEM_PUBLIC.pkl')\n",
    "    gdsc = gdsc.merge(sample_info[['Sanger_Model_ID', 'RRID', 'stripped_cell_line_name']], how='inner', \n",
    "        left_on='SANGER_MODEL_ID', right_on='Sanger_Model_ID')\n",
    "    \n",
    "    gdsc['dataset_name'] = ['GDSC' for i in range(len(gdsc))]\n",
    "    labeled_data = gdsc[['pubchem_id', 'LN_IC50', \n",
    "        'drug_name', 'dataset_name', 'RRID', 'smiles',\n",
    "        'stripped_cell_line_name', 'SANGER_MODEL_ID']]\n",
    "    \n",
    "    nci_public.rename(columns={\n",
    "                    'isomeric_smiles': 'smiles',\n",
    "                    'Sanger_Model_ID':'SANGER_MODEL_ID'\n",
    "                    }, inplace=True)\n",
    "    \n",
    "    nci_public['dataset_name'] = ['NCI60' for i in range(len(nci_public))]\n",
    "    nci_public['drug_name'] = ['' for i in range(len(nci_public))]\n",
    "    nci_labeled_data= nci_public[['pubchem_id', 'LN_IC50', \n",
    "        'drug_name', 'dataset_name', 'RRID', 'smiles',\n",
    "        'stripped_cell_line_name', 'SANGER_MODEL_ID']]\n",
    "    nci_labeled_data= nci_labeled_data[~nci_labeled_data.pubchem_id.isin(desc['bad_mols_nci60_drop'])]\n",
    "\n",
    "    \n",
    "    ld  = pd.concat([labeled_data, nci_labeled_data]) \n",
    "    # CTRP cell lines have 47 Cell lines not in Depmap portal\n",
    "    ctrp = pd.read_pickle('/workspace/data/raw/CTRP/CTRP_all_v2.pkl')\n",
    "    ctrp = ctrp[ctrp['apparent_ec50_umol']!= 0]\n",
    "    ctrp_labeled = ctrp[['pubchem_id', 'LN_IC50','cpd_name','dataset_name','RRID', \n",
    "     'isomeric_smiles','ccl_name', 'cpd_smiles']].rename(columns={ \n",
    "            'cpd_name':'drug_name', 'cpd_smiles':'smiles_old',\n",
    "            'isomeric_smiles':'smiles','ccl_name':'stripped_cell_line_name'})\n",
    "     \n",
    "    ld =pd.concat([ld, ctrp_labeled])\n",
    "    ld.to_pickle('/workspace/data/processed/labeled_data.pkl')\n",
    "    return ld\n",
    "# create_labeled_data()"
   ]
  },
  {
   "cell_type": "code",
   "execution_count": null,
   "metadata": {},
   "outputs": [],
   "source": [
    "# Create the data for Drug Response Prediction\n",
    "def create_labeled_data_drp():\n",
    "    nci_public = pd.read_pickle('/workspace/data/raw/NCI60June2022/NCI60_IC50_PUBCHEM_PUBLIC.pkl')\n",
    "    selection = pd.read_csv('/workspace/data/raw/NCI60June2022/nci60_selection_marker_genes.csv')    \n",
    "    nci_public.rename(columns={\n",
    "                    'isomeric_smiles': 'smiles',\n",
    "                    'Sanger_Model_ID':'SANGER_MODEL_ID'\n",
    "                    }, inplace=True)\n",
    "    \n",
    "    nci_public['dataset_name'] = ['NCI60_DRP' for i in range(len(nci_public))]\n",
    "    nci_public['drug_name'] = ['' for i in range(len(nci_public))]\n",
    "    nci_labeled_data= nci_public[['pubchem_id', 'LN_IC50', \n",
    "        'drug_name', 'dataset_name', 'RRID', 'smiles',\n",
    "        'stripped_cell_line_name', 'SANGER_MODEL_ID']]\n",
    "    nci_labeled_data = nci_labeled_data.loc[nci_labeled_data['RRID'].isin(selection.cellosaurus_id.unique())]\n",
    "    nci_labeled_data= nci_labeled_data[~nci_labeled_data.pubchem_id.isin(desc['bad_mols_nci60_drop'])]\n",
    "    nci_labeled_data.to_pickle('/workspace/data/processed/labeled_data_drp.pkl')\n",
    "    return nci_labeled_data"
   ]
  },
  {
   "cell_type": "code",
   "execution_count": null,
   "metadata": {},
   "outputs": [],
   "source": [
    "# NCI60_IC50_PUBCHEM_PUBLIC.to_pickle('/workspace/data/raw/NCI60June2022/NCI60_IC50_PUBCHEM_PUBLIC.pkl')"
   ]
  },
  {
   "cell_type": "code",
   "execution_count": null,
   "metadata": {},
   "outputs": [],
   "source": [
    "drp = create_labeled_data_drp()"
   ]
  },
  {
   "cell_type": "code",
   "execution_count": null,
   "metadata": {},
   "outputs": [
    {
     "name": "stdout",
     "output_type": "stream",
     "text": [
      "<class 'pandas.core.frame.DataFrame'>\n",
      "Int64Index: 535637 entries, 412774 to 3225858\n",
      "Data columns (total 8 columns):\n",
      " #   Column                   Non-Null Count   Dtype  \n",
      "---  ------                   --------------   -----  \n",
      " 0   pubchem_id               535637 non-null  int64  \n",
      " 1   LN_IC50                  535637 non-null  float64\n",
      " 2   drug_name                535637 non-null  object \n",
      " 3   dataset_name             535637 non-null  object \n",
      " 4   RRID                     535637 non-null  object \n",
      " 5   smiles                   535637 non-null  object \n",
      " 6   stripped_cell_line_name  535637 non-null  object \n",
      " 7   SANGER_MODEL_ID          535637 non-null  object \n",
      "dtypes: float64(1), int64(1), object(6)\n",
      "memory usage: 36.8+ MB\n"
     ]
    }
   ],
   "source": [
    "drp.info()"
   ]
  },
  {
   "cell_type": "code",
   "execution_count": null,
   "metadata": {},
   "outputs": [],
   "source": [
    "desc['test_5000']=drp.pubchem_id.unique()[:5000].tolist()"
   ]
  },
  {
   "cell_type": "code",
   "execution_count": null,
   "metadata": {},
   "outputs": [],
   "source": [
    "nci_public = pd.read_pickle('/workspace/data/raw/NCI60June2022/NCI60_IC50_PUBCHEM_PUBLIC.pkl')"
   ]
  },
  {
   "cell_type": "code",
   "execution_count": null,
   "metadata": {},
   "outputs": [],
   "source": [
    "# Not available from online source \n",
    "# TODO: Add the data to the repo\n",
    "selection = pd.read_csv('/workspace/data/raw/NCI60June2022/nci60_selection_marker_genes.csv')"
   ]
  },
  {
   "cell_type": "code",
   "execution_count": null,
   "metadata": {},
   "outputs": [],
   "source": [
    "# Read the data\n",
    "labeled_data = pd.read_pickle('/workspace/data/processed/labeled_data.csv')"
   ]
  },
  {
   "cell_type": "code",
   "execution_count": null,
   "metadata": {},
   "outputs": [
    {
     "name": "stdout",
     "output_type": "stream",
     "text": [
      "<class 'pandas.core.frame.DataFrame'>\n",
      "Int64Index: 3834399 entries, 0 to 395262\n",
      "Data columns (total 8 columns):\n",
      " #   Column                   Dtype  \n",
      "---  ------                   -----  \n",
      " 0   pubchem_id               object \n",
      " 1   LN_IC50                  float64\n",
      " 2   drug_name                object \n",
      " 3   dataset_name             object \n",
      " 4   RRID                     object \n",
      " 5   smiles                   object \n",
      " 6   stripped_cell_line_name  object \n",
      " 7   SANGER_MODEL_ID          object \n",
      "dtypes: float64(1), object(7)\n",
      "memory usage: 263.3+ MB\n"
     ]
    }
   ],
   "source": [
    "labeled_data.info()"
   ]
  },
  {
   "cell_type": "code",
   "execution_count": null,
   "metadata": {},
   "outputs": [
    {
     "data": {
      "text/plain": [
       "<AxesSubplot:ylabel='Frequency'>"
      ]
     },
     "metadata": {},
     "output_type": "display_data"
    },
    {
     "data": {
      "image/png": "[encoded data removed]",
      "text/plain": [
       "<Figure size 432x288 with 1 Axes>"
      ]
     },
     "metadata": {},
     "output_type": "display_data"
    }
   ],
   "source": [
    "gdsc[\"IC50\"][gdsc[\"IC50\"]<=1e-6].plot(kind='hist',logy=True)"
   ]
  },
  {
   "cell_type": "code",
   "execution_count": null,
   "metadata": {},
   "outputs": [
    {
     "data": {
      "text/plain": [
       "<AxesSubplot:ylabel='Frequency'>"
      ]
     },
     "metadata": {},
     "output_type": "display_data"
    },
    {
     "data": {
      "image/png": "[encoded data removed]",
      "text/plain": [
       "<Figure size 432x288 with 1 Axes>"
      ]
     },
     "metadata": {},
     "output_type": "display_data"
    }
   ],
   "source": [
    "gdsc[\"IC50\"][gdsc[\"IC50\"]<=1e-6].plot(kind='hist',logy=True)"
   ]
  },
  {
   "cell_type": "code",
   "execution_count": null,
   "metadata": {},
   "outputs": [],
   "source": [
    "nci_public[\"IC50\"] = nci_public[\"AVERAGE\"].map(lambda x: 10**x)\n",
    "nci_public[\"LN_IC50\"] = nci_public[\"IC50\"].map(lambda x: np.log(x*1e+6))"
   ]
  },
  {
   "cell_type": "code",
   "execution_count": null,
   "metadata": {},
   "outputs": [
    {
     "data": {
      "text/plain": [
       "<AxesSubplot:ylabel='Frequency'>"
      ]
     },
     "metadata": {},
     "output_type": "display_data"
    },
    {
     "data": {
      "image/png": "[encoded data removed]",
      "text/plain": [
       "<Figure size 432x288 with 1 Axes>"
      ]
     },
     "metadata": {},
     "output_type": "display_data"
    }
   ],
   "source": [
    "nci_public[\"IC50\"][nci_public[\"IC50\"]<=1e-6].plot(kind='hist', logy=True)"
   ]
  },
  {
   "cell_type": "code",
   "execution_count": null,
   "metadata": {},
   "outputs": [
    {
     "data": {
      "text/plain": [
       "<AxesSubplot:ylabel='Frequency'>"
      ]
     },
     "metadata": {},
     "output_type": "display_data"
    },
    {
     "data": {
      "image/png": "[encoded data removed]",
      "text/plain": [
       "<Figure size 432x288 with 1 Axes>"
      ]
     },
     "metadata": {},
     "output_type": "display_data"
    }
   ],
   "source": [
    "nci_public.AVERAGE.plot(kind='hist', logy=True)"
   ]
  },
  {
   "cell_type": "code",
   "execution_count": null,
   "metadata": {},
   "outputs": [
    {
     "data": {
      "text/plain": [
       "<AxesSubplot:ylabel='Frequency'>"
      ]
     },
     "metadata": {},
     "output_type": "display_data"
    },
    {
     "data": {
      "image/png": "[encoded data removed]",
      "text/plain": [
       "<Figure size 432x288 with 1 Axes>"
      ]
     },
     "metadata": {},
     "output_type": "display_data"
    }
   ],
   "source": [
    "gdsc[\"LN_IC50\"].plot(kind='hist', logy=True)"
   ]
  },
  {
   "cell_type": "code",
   "execution_count": null,
   "metadata": {},
   "outputs": [
    {
     "data": {
      "text/plain": [
       "<AxesSubplot:ylabel='Frequency'>"
      ]
     },
     "metadata": {},
     "output_type": "display_data"
    },
    {
     "data": {
      "image/png": "[encoded data removed]",
      "text/plain": [
       "<Figure size 432x288 with 1 Axes>"
      ]
     },
     "metadata": {},
     "output_type": "display_data"
    }
   ],
   "source": [
    "nci_public[\"LN_IC50\"].plot(kind='hist', logy=True)"
   ]
  },
  {
   "cell_type": "code",
   "execution_count": null,
   "metadata": {},
   "outputs": [],
   "source": [
    "sample_info= pd.read_csv('/workspace/raw/depmap22q2/sample_info.csv')"
   ]
  },
  {
   "cell_type": "code",
   "execution_count": null,
   "metadata": {},
   "outputs": [],
   "source": [
    "# print(NCI60_ccl_raw.head())\n",
    "# print(NCI60_ccl_raw.columns)\n",
    "# print(len(NCI60_ccl_raw))\n",
    "\n",
    "# print(NCI60_PubChemSID)\n",
    "# print(NCI60_PubChemSID.columns)\n",
    "# print(len(NCI60_PubChemSID))\n"
   ]
  },
  {
   "cell_type": "code",
   "execution_count": null,
   "metadata": {},
   "outputs": [],
   "source": [
    "\n",
    "# print(NCI60_IC50_PUBCHEM)\n",
    "# print(NCI60_IC50_PUBCHEM.columns)\n",
    "# print(len(NCI60_IC50_PUBCHEM))"
   ]
  },
  {
   "attachments": {},
   "cell_type": "markdown",
   "metadata": {},
   "source": [
    "## Basic exploration after all the data had been produced"
   ]
  },
  {
   "cell_type": "code",
   "execution_count": null,
   "metadata": {},
   "outputs": [],
   "source": [
    "gdsc_pub_cell = pd.read_pickle('workspace/data/processed/GDSC_fs/gdsc_feature_selection_data.pkl')"
   ]
  },
  {
   "cell_type": "code",
   "execution_count": null,
   "metadata": {},
   "outputs": [
    {
     "data": {
      "text/plain": [
       "<AxesSubplot:ylabel='Frequency'>"
      ]
     },
     "metadata": {},
     "output_type": "display_data"
    },
    {
     "data": {
      "image/png": "[encoded data removed]",
      "text/plain": [
       "<Figure size 432x288 with 1 Axes>"
      ]
     },
     "metadata": {},
     "output_type": "display_data"
    }
   ],
   "source": [
    "gdsc_pub_cell['LN_IC50'].plot(kind='hist', logy= True)"
   ]
  },
  {
   "cell_type": "code",
   "execution_count": null,
   "metadata": {},
   "outputs": [
    {
     "data": {
      "text/plain": [
       "<AxesSubplot:ylabel='Frequency'>"
      ]
     },
     "metadata": {},
     "output_type": "display_data"
    },
    {
     "data": {
      "image/png": "[encoded data removed]",
      "text/plain": [
       "<Figure size 432x288 with 1 Axes>"
      ]
     },
     "metadata": {},
     "output_type": "display_data"
    }
   ],
   "source": [
    "ctrp_new['LN_EC50'][ctrp_new['LN_EC50']>-1000].plot(kind='hist', logy= True)"
   ]
  },
  {
   "attachments": {},
   "cell_type": "markdown",
   "metadata": {},
   "source": [
    "There is a big difference in reporting EC50 and IC50 results. EC50 is relative therefore if drugs are ineffective, the curve can behave like a horizontal line, in which case the median of inhibition measurements is taken. The slope of the curve can be positive or negative. For example, if a drug is determined to have the opposite effect of inhibition on a tumor cell, it can result in a negative slope."
   ]
  },
  {
   "cell_type": "code",
   "execution_count": null,
   "metadata": {},
   "outputs": [],
   "source": [
    "nci_public = pd.read_pickle('/workspace/data/raw/NCI60June2022/NCI60_IC50_PUBCHEM_PUBLIC.pkl')"
   ]
  },
  {
   "cell_type": "code",
   "execution_count": null,
   "metadata": {},
   "outputs": [
    {
     "data": {
      "text/plain": [
       "<AxesSubplot:ylabel='Frequency'>"
      ]
     },
     "metadata": {},
     "output_type": "display_data"
    },
    {
     "data": {
      "image/png": "[encoded data removed]",
      "text/plain": [
       "<Figure size 432x288 with 1 Axes>"
      ]
     },
     "metadata": {},
     "output_type": "display_data"
    }
   ],
   "source": [
    "nci_public[\"LN_IC50\"].plot(kind='hist', logy=True)"
   ]
  },
  {
   "attachments": {},
   "cell_type": "markdown",
   "metadata": {},
   "source": [
    "By loading the LN_IC50 data from the NCI60 DB, we notice that the target variables are similarly distributed, but there are significant differences in the experimental procedure. In GDSC2 DB, the maximum target value is 10, and the minimum is around -8, while in NCI60 DB, the maximum is above 20, and the minimum is below 20. The distributions are visibly shifted. It is also essential to note that in NCI60, there are $10^6$ or more data points, while in CTRPv2 DB, we have a total of $10^5$ examples. See the graphs above. If these hypothetically different DB were learned in the model, it would result in poor predictions, and the data imbalance would create irreversible model bias, resulting in weak data generalization."
   ]
  },
  {
   "cell_type": "code",
   "execution_count": null,
   "metadata": {},
   "outputs": [
    {
     "data": {
      "text/plain": [
       "<AxesSubplot:ylabel='Frequency'>"
      ]
     },
     "metadata": {},
     "output_type": "display_data"
    },
    {
     "data": {
      "image/png": "[encoded data removed]",
      "text/plain": [
       "<Figure size 432x288 with 1 Axes>"
      ]
     },
     "metadata": {},
     "output_type": "display_data"
    }
   ],
   "source": [
    "# Prkaz koncentracije spojeva manje od 1uM u CTRPv2 BP na histogramu \n",
    "ctrp_new['apparent_ec50_umol'][ctrp_new['apparent_ec50_umol']<1000].plot(kind='hist', logy= True, bins=50)"
   ]
  },
  {
   "cell_type": "code",
   "execution_count": null,
   "metadata": {},
   "outputs": [
    {
     "data": {
      "text/plain": [
       "<AxesSubplot:ylabel='Frequency'>"
      ]
     },
     "metadata": {},
     "output_type": "display_data"
    },
    {
     "data": {
      "image/png": "[encoded data removed]",
      "text/plain": [
       "<Figure size 432x288 with 1 Axes>"
      ]
     },
     "metadata": {},
     "output_type": "display_data"
    }
   ],
   "source": [
    "nci_public[\"IC50\"][nci_public[\"IC50\"]<=1].plot(kind='hist', logy=True, bins=50)"
   ]
  }
 ],
 "metadata": {
  "kernelspec": {
   "display_name": "base",
   "language": "python",
   "name": "python3"
  },
  "language_info": {
   "codemirror_mode": {
    "name": "ipython",
    "version": 3
   },
   "file_extension": ".py",
   "mimetype": "text/x-python",
   "name": "python",
   "nbconvert_exporter": "python",
   "pygments_lexer": "ipython3",
   "version": "3.10.9"
  },
  "orig_nbformat": 4
 },
 "nbformat": 4,
 "nbformat_minor": 2
}
