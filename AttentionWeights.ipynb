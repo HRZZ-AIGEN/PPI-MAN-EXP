{
 "cells": [
  {
   "attachments": {},
   "cell_type": "markdown",
   "metadata": {},
   "source": [
    "# Attention weights"
   ]
  },
  {
   "cell_type": "code",
   "execution_count": 1,
   "metadata": {},
   "outputs": [],
   "source": [
    "%load_ext autoreload\n",
    "%reload_ext autoreload"
   ]
  },
  {
   "cell_type": "code",
   "execution_count": null,
   "metadata": {},
   "outputs": [],
   "source": [
    "import os\n",
    "os.environ[\"CUBLAS_WORKSPACE_CONFIG\"] = \":4096:8\""
   ]
  },
  {
   "cell_type": "code",
   "execution_count": 2,
   "metadata": {},
   "outputs": [
    {
     "name": "stderr",
     "output_type": "stream",
     "text": [
      "/opt/conda/lib/python3.10/site-packages/umap/distances.py:1063: NumbaDeprecationWarning: The 'nopython' keyword argument was not supplied to the 'numba.jit' decorator. The implicit default value for this argument is currently False, but it will be changed to True in Numba 0.59.0. See https://numba.readthedocs.io/en/stable/reference/deprecation.html#deprecation-of-object-mode-fall-back-behaviour-when-using-jit for details.\n",
      "  @numba.jit()\n",
      "/opt/conda/lib/python3.10/site-packages/umap/distances.py:1071: NumbaDeprecationWarning: The 'nopython' keyword argument was not supplied to the 'numba.jit' decorator. The implicit default value for this argument is currently False, but it will be changed to True in Numba 0.59.0. See https://numba.readthedocs.io/en/stable/reference/deprecation.html#deprecation-of-object-mode-fall-back-behaviour-when-using-jit for details.\n",
      "  @numba.jit()\n",
      "/opt/conda/lib/python3.10/site-packages/umap/distances.py:1086: NumbaDeprecationWarning: The 'nopython' keyword argument was not supplied to the 'numba.jit' decorator. The implicit default value for this argument is currently False, but it will be changed to True in Numba 0.59.0. See https://numba.readthedocs.io/en/stable/reference/deprecation.html#deprecation-of-object-mode-fall-back-behaviour-when-using-jit for details.\n",
      "  @numba.jit()\n",
      "/opt/conda/lib/python3.10/site-packages/umap/umap_.py:660: NumbaDeprecationWarning: The 'nopython' keyword argument was not supplied to the 'numba.jit' decorator. The implicit default value for this argument is currently False, but it will be changed to True in Numba 0.59.0. See https://numba.readthedocs.io/en/stable/reference/deprecation.html#deprecation-of-object-mode-fall-back-behaviour-when-using-jit for details.\n",
      "  @numba.jit()\n"
     ]
    }
   ],
   "source": [
    "import sys\n",
    "import os\n",
    "sys.path.append('/workspace/src')\n",
    "from src.pair_graphs import InferenceDataset, collate_batch\n",
    "from src.evaluation import Evaluation, overlaps, overlap_3, disease_dicts, disease_subtype_dict\n",
    "import pandas as pd\n",
    "import umap\n",
    "import matplotlib.pyplot as plt\n",
    "from pathlib import Path\n",
    "import seaborn as sns\n",
    "import numpy as np\n",
    "from rdkit import Chem, DataStructs\n",
    "from scipy import stats\n",
    "from scipy.spatial.distance import pdist,squareform\n",
    "from src.train_drp import MultimodalAttentionNet, Conf"
   ]
  },
  {
   "attachments": {},
   "cell_type": "markdown",
   "metadata": {},
   "source": [
    "* Load all models"
   ]
  },
  {
   "cell_type": "code",
   "execution_count": 3,
   "metadata": {},
   "outputs": [],
   "source": [
    "from src.create_graphs_ppi import PPIGraphsDRP"
   ]
  },
  {
   "cell_type": "code",
   "execution_count": 4,
   "metadata": {},
   "outputs": [],
   "source": [
    "data_dir = None\n",
    "project_dir = Path('/workspace')"
   ]
  },
  {
   "cell_type": "code",
   "execution_count": 5,
   "metadata": {},
   "outputs": [
    {
     "name": "stderr",
     "output_type": "stream",
     "text": [
      "/opt/conda/lib/python3.10/site-packages/torchmetrics/utilities/prints.py:36: UserWarning: Metric `SpearmanCorrcoef` will save all targets and predictions in the buffer. For large datasets, this may lead to large memory footprint.\n",
      "  warnings.warn(*args, **kwargs)\n",
      "Global seed set to 42\n"
     ]
    }
   ],
   "source": [
    "conf = Conf(\n",
    "    lr = 1e-3,\n",
    "    batch_size = 32,\n",
    "    epochs = 300,\n",
    "    reduce_lr = True,\n",
    "    ppi_depth = 3,\n",
    "    mat_depth = 4,\n",
    "    mat_heads = 4,\n",
    ").to_hparams()\n",
    "\n",
    "model = MultimodalAttentionNet(conf, data_dir=None, \n",
    "    mat_depth=4, mat_heads=4, ppi_depth=3)"
   ]
  },
  {
   "cell_type": "code",
   "execution_count": 6,
   "metadata": {},
   "outputs": [
    {
     "name": "stderr",
     "output_type": "stream",
     "text": [
      "Lightning automatically upgraded your loaded checkpoint from v1.9.4 to v2.0.2. To apply the upgrade to your files permanently, run `python -m pytorch_lightning.utilities.upgrade_checkpoint --file workspace/models/NCI60DRP_random_42/1680458624/checkpoint/epoch=212-step=1957470.ckpt`\n",
      "Global seed set to 42\n"
     ]
    }
   ],
   "source": [
    "drp = Evaluation('/workspace', dataset='NCI60DRP', split='random', \n",
    "                 ppi_depth=3, seed=42, mat_depth=4, mat_heads=4,\n",
    "                ckpt_path='workspace/models/NCI60DRP_random_42/'+\n",
    "                '1680458624/checkpoint/epoch=212-step=1957470.ckpt',\n",
    "                model = model)"
   ]
  },
  {
   "cell_type": "code",
   "execution_count": 7,
   "metadata": {},
   "outputs": [
    {
     "name": "stderr",
     "output_type": "stream",
     "text": [
      "100%|██████████| 11/11 [00:16<00:00,  1.51s/it]\n"
     ]
    }
   ],
   "source": [
    "attention = drp.attention_links()"
   ]
  },
  {
   "cell_type": "code",
   "execution_count": 8,
   "metadata": {},
   "outputs": [
    {
     "data": {
      "text/html": [
       "<div>\n",
       "<style scoped>\n",
       "    .dataframe tbody tr th:only-of-type {\n",
       "        vertical-align: middle;\n",
       "    }\n",
       "\n",
       "    .dataframe tbody tr th {\n",
       "        vertical-align: top;\n",
       "    }\n",
       "\n",
       "    .dataframe thead th {\n",
       "        text-align: right;\n",
       "    }\n",
       "</style>\n",
       "<table border=\"1\" class=\"dataframe\">\n",
       "  <thead>\n",
       "    <tr style=\"text-align: right;\">\n",
       "      <th></th>\n",
       "      <th>attention</th>\n",
       "      <th>protein_1</th>\n",
       "      <th>protein_2</th>\n",
       "      <th>cell</th>\n",
       "      <th>p1_name</th>\n",
       "      <th>p2_name</th>\n",
       "    </tr>\n",
       "  </thead>\n",
       "  <tbody>\n",
       "    <tr>\n",
       "      <th>0</th>\n",
       "      <td>0.145695</td>\n",
       "      <td>2960</td>\n",
       "      <td>205</td>\n",
       "      <td>CVCL_0292</td>\n",
       "      <td>GBP6</td>\n",
       "      <td>AEN</td>\n",
       "    </tr>\n",
       "    <tr>\n",
       "      <th>1</th>\n",
       "      <td>0.574381</td>\n",
       "      <td>2960</td>\n",
       "      <td>4455</td>\n",
       "      <td>CVCL_0292</td>\n",
       "      <td>GBP6</td>\n",
       "      <td>MED15</td>\n",
       "    </tr>\n",
       "    <tr>\n",
       "      <th>2</th>\n",
       "      <td>0.180436</td>\n",
       "      <td>2960</td>\n",
       "      <td>5346</td>\n",
       "      <td>CVCL_0292</td>\n",
       "      <td>GBP6</td>\n",
       "      <td>PARP11</td>\n",
       "    </tr>\n",
       "    <tr>\n",
       "      <th>3</th>\n",
       "      <td>0.018591</td>\n",
       "      <td>2960</td>\n",
       "      <td>2819</td>\n",
       "      <td>CVCL_0292</td>\n",
       "      <td>GBP6</td>\n",
       "      <td>FOXO1</td>\n",
       "    </tr>\n",
       "    <tr>\n",
       "      <th>4</th>\n",
       "      <td>0.012227</td>\n",
       "      <td>2960</td>\n",
       "      <td>2493</td>\n",
       "      <td>CVCL_0292</td>\n",
       "      <td>GBP6</td>\n",
       "      <td>EVI5L</td>\n",
       "    </tr>\n",
       "    <tr>\n",
       "      <th>...</th>\n",
       "      <td>...</td>\n",
       "      <td>...</td>\n",
       "      <td>...</td>\n",
       "      <td>...</td>\n",
       "      <td>...</td>\n",
       "      <td>...</td>\n",
       "    </tr>\n",
       "    <tr>\n",
       "      <th>102208</th>\n",
       "      <td>0.041306</td>\n",
       "      <td>5426</td>\n",
       "      <td>5426</td>\n",
       "      <td>CVCL_0292</td>\n",
       "      <td>PCDHGB2</td>\n",
       "      <td>PCDHGB2</td>\n",
       "    </tr>\n",
       "    <tr>\n",
       "      <th>102209</th>\n",
       "      <td>0.402354</td>\n",
       "      <td>5427</td>\n",
       "      <td>5427</td>\n",
       "      <td>CVCL_0292</td>\n",
       "      <td>PCDHGB3</td>\n",
       "      <td>PCDHGB3</td>\n",
       "    </tr>\n",
       "    <tr>\n",
       "      <th>102210</th>\n",
       "      <td>0.087990</td>\n",
       "      <td>5428</td>\n",
       "      <td>5428</td>\n",
       "      <td>CVCL_0292</td>\n",
       "      <td>PCDHGB4</td>\n",
       "      <td>PCDHGB4</td>\n",
       "    </tr>\n",
       "    <tr>\n",
       "      <th>102211</th>\n",
       "      <td>0.018921</td>\n",
       "      <td>5429</td>\n",
       "      <td>5429</td>\n",
       "      <td>CVCL_0292</td>\n",
       "      <td>PCDHGC3</td>\n",
       "      <td>PCDHGC3</td>\n",
       "    </tr>\n",
       "    <tr>\n",
       "      <th>102212</th>\n",
       "      <td>0.057992</td>\n",
       "      <td>5430</td>\n",
       "      <td>5430</td>\n",
       "      <td>CVCL_0292</td>\n",
       "      <td>PCDHGC4</td>\n",
       "      <td>PCDHGC4</td>\n",
       "    </tr>\n",
       "  </tbody>\n",
       "</table>\n",
       "<p>102213 rows × 6 columns</p>\n",
       "</div>"
      ],
      "text/plain": [
       "        attention  protein_1  protein_2       cell  p1_name  p2_name\n",
       "0        0.145695       2960        205  CVCL_0292     GBP6      AEN\n",
       "1        0.574381       2960       4455  CVCL_0292     GBP6    MED15\n",
       "2        0.180436       2960       5346  CVCL_0292     GBP6   PARP11\n",
       "3        0.018591       2960       2819  CVCL_0292     GBP6    FOXO1\n",
       "4        0.012227       2960       2493  CVCL_0292     GBP6    EVI5L\n",
       "...           ...        ...        ...        ...      ...      ...\n",
       "102208   0.041306       5426       5426  CVCL_0292  PCDHGB2  PCDHGB2\n",
       "102209   0.402354       5427       5427  CVCL_0292  PCDHGB3  PCDHGB3\n",
       "102210   0.087990       5428       5428  CVCL_0292  PCDHGB4  PCDHGB4\n",
       "102211   0.018921       5429       5429  CVCL_0292  PCDHGC3  PCDHGC3\n",
       "102212   0.057992       5430       5430  CVCL_0292  PCDHGC4  PCDHGC4\n",
       "\n",
       "[102213 rows x 6 columns]"
      ]
     },
     "execution_count": 8,
     "metadata": {},
     "output_type": "execute_result"
    }
   ],
   "source": [
    "attention[attention['cell'] == 'CVCL_0292'] "
   ]
  },
  {
   "cell_type": "code",
   "execution_count": 9,
   "metadata": {},
   "outputs": [
    {
     "data": {
      "text/plain": [
       "attention                                                  1.0\n",
       "protein_1                                                40118\n",
       "protein_2                                                48960\n",
       "cell         CVCL_0292CVCL_0292CVCL_0292CVCL_0292CVCL_0292C...\n",
       "p1_name      NDUFB10M1APNDUFB4MTSS1DVL3DYNC1H1NDUFAF4DYMNDU...\n",
       "p2_name      NDUFAF7NDUFAF7NDUFAF7NDUFAF7NDUFAF7NDUFAF7NDUF...\n",
       "dtype: object"
      ]
     },
     "execution_count": 9,
     "metadata": {},
     "output_type": "execute_result"
    }
   ],
   "source": [
    "# extract rows that have cell 'CVCL_0292' and p1_name 'NDUFAF7'\n",
    "attention[attention['cell'] == 'CVCL_0292'] \n",
    "attention[attention['p2_name'] == 'NDUFAF7'].sum()\n"
   ]
  },
  {
   "cell_type": "code",
   "execution_count": null,
   "metadata": {},
   "outputs": [],
   "source": [
    "attention.to_csv('/workspace/data/processed/NCI60DRP_random_self_att/attentionDRP.csv')"
   ]
  },
  {
   "cell_type": "code",
   "execution_count": null,
   "metadata": {},
   "outputs": [
    {
     "name": "stdout",
     "output_type": "stream",
     "text": [
      "Creating PPI graphs ['CVCL_0292' 'CVCL_1331' 'CVCL_1779' 'CVCL_1304' 'CVCL_1690' 'CVCL_1092'\n",
      " 'CVCL_0021' 'CVCL_0062' 'CVCL_1195' 'CVCL_1051' 'CVCL_0004']\n"
     ]
    }
   ],
   "source": [
    "def get_cell_df(cell):\n",
    "    expression = pd.read_pickle(project_dir / 'data/processed/NCI60DRP_random/cell_features_drp.pkl')\n",
    "    ppi_links_cell = pd.read_pickle(project_dir / 'data/processed/NCI60DRP_random/ppi_links_drp.pkl')\n",
    "    print(\"Getting {} \", cell)\n",
    "    data_list = []\n",
    "    ppi=pd.DataFrame([])\n",
    "    idx = expression['RRID'] == cell\n",
    "    cell_expression = expression.loc[idx]\n",
    "    oe_gene = OrdinalEncoder()\n",
    "    if self.self_att == '_self_att':               \n",
    "        idx_2 = (ppi_links_cell['protein_1'].isin(\n",
    "            cell_expression['gene'])) & (\n",
    "            ppi_links_cell['protein_2'].isin(\n",
    "                cell_expression['gene']))\n",
    "                \n",
    "        pi1 = ppi_links_cell[['protein_1', 'protein_2']].loc[idx_2]\n",
    "        cell_expression = cell_expression.loc[\n",
    "            cell_expression['gene'].isin(pi1['protein_1'].unique())]\n",
    "                \n",
    "        oe_gene.fit(cell_expression['gene'].unique().reshape(-1,1))\n",
    "        oe_length = cell_expression['gene'].unique().shape[0]\n",
    "        oe_l = oe_gene.transform(\n",
    "            cell_expression['gene'].unique().reshape(-1,1))\n",
    "                \n",
    "        gene_l = cell_expression['gene'].unique().reshape(-1,1)\n",
    "        cell_expression['cell_gene_ordinal'] = oe_gene.transform(\n",
    "            cell_expression['gene'].values.reshape(-1,1))"
   ]
  }
 ],
 "metadata": {
  "kernelspec": {
   "display_name": "base",
   "language": "python",
   "name": "python3"
  },
  "language_info": {
   "codemirror_mode": {
    "name": "ipython",
    "version": 3
   },
   "file_extension": ".py",
   "mimetype": "text/x-python",
   "name": "python",
   "nbconvert_exporter": "python",
   "pygments_lexer": "ipython3",
   "version": "3.10.9"
  },
  "orig_nbformat": 4
 },
 "nbformat": 4,
 "nbformat_minor": 2
}
